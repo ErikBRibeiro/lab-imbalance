{
 "cells": [
  {
   "cell_type": "markdown",
   "metadata": {},
   "source": [
    "# Inbalanced Classes\n",
    "## In this lab, we are going to explore a case of imbalanced classes. \n",
    "\n",
    "\n",
    "Like we disussed in class, when we have noisy data, if we are not careful, we can end up fitting our model to the noise in the data and not the 'signal'-- the factors that actually determine the outcome. This is called overfitting, and results in good results in training, and in bad results when the model is applied to real data. Similarly, we could have a model that is too simplistic to accurately model the signal. This produces a model that doesnt work well (ever). \n"
   ]
  },
  {
   "cell_type": "markdown",
   "metadata": {},
   "source": [
    "### Note: before doing the first commit, make sure you don't include the large csv file, either by adding it to .gitignore, or by deleting it."
   ]
  },
  {
   "cell_type": "markdown",
   "metadata": {},
   "source": [
    "### First, download the data from: https://www.kaggle.com/datasets/ealaxi/paysim1. Import the dataset and provide some discriptive statistics and plots. What do you think will be the important features in determining the outcome?\n",
    "### Note: don't use the entire dataset, use a sample instead, with n=100000 elements, so your computer doesn't freeze."
   ]
  },
  {
   "cell_type": "code",
   "execution_count": 35,
   "metadata": {},
   "outputs": [],
   "source": [
    "from sklearn.model_selection import train_test_split\n",
    "from sklearn.preprocessing import LabelEncoder\n",
    "from sklearn.linear_model import LogisticRegression\n",
    "from sklearn.metrics import accuracy_score\n",
    "from sklearn.preprocessing import OneHotEncoder\n",
    "\n",
    "import pandas as pd\n",
    "import numpy as np\n",
    "import matplotlib.pyplot as plt\n",
    "import seaborn as sns"
   ]
  },
  {
   "cell_type": "code",
   "execution_count": 36,
   "metadata": {},
   "outputs": [
    {
     "name": "stderr",
     "output_type": "stream",
     "text": [
      "<>:1: SyntaxWarning: invalid escape sequence '\\I'\n",
      "<>:1: SyntaxWarning: invalid escape sequence '\\I'\n",
      "C:\\Users\\erik\\AppData\\Local\\Temp\\ipykernel_11784\\2837186393.py:1: SyntaxWarning: invalid escape sequence '\\I'\n",
      "  df = pd.read_csv('C:\\Ironhack\\Exercises\\week_7_labs\\lab-imbalance\\paysim1\\PS_20174392719_1491204439457_log.csv')\n"
     ]
    },
    {
     "data": {
      "text/html": [
       "<div>\n",
       "<style scoped>\n",
       "    .dataframe tbody tr th:only-of-type {\n",
       "        vertical-align: middle;\n",
       "    }\n",
       "\n",
       "    .dataframe tbody tr th {\n",
       "        vertical-align: top;\n",
       "    }\n",
       "\n",
       "    .dataframe thead th {\n",
       "        text-align: right;\n",
       "    }\n",
       "</style>\n",
       "<table border=\"1\" class=\"dataframe\">\n",
       "  <thead>\n",
       "    <tr style=\"text-align: right;\">\n",
       "      <th></th>\n",
       "      <th>step</th>\n",
       "      <th>type</th>\n",
       "      <th>amount</th>\n",
       "      <th>nameOrig</th>\n",
       "      <th>oldbalanceOrg</th>\n",
       "      <th>newbalanceOrig</th>\n",
       "      <th>nameDest</th>\n",
       "      <th>oldbalanceDest</th>\n",
       "      <th>newbalanceDest</th>\n",
       "      <th>isFraud</th>\n",
       "      <th>isFlaggedFraud</th>\n",
       "    </tr>\n",
       "  </thead>\n",
       "  <tbody>\n",
       "    <tr>\n",
       "      <th>3282704</th>\n",
       "      <td>251</td>\n",
       "      <td>CASH_IN</td>\n",
       "      <td>63209.92</td>\n",
       "      <td>C272646117</td>\n",
       "      <td>5115090.12</td>\n",
       "      <td>5178300.04</td>\n",
       "      <td>C560187261</td>\n",
       "      <td>372993.87</td>\n",
       "      <td>309783.95</td>\n",
       "      <td>0</td>\n",
       "      <td>0</td>\n",
       "    </tr>\n",
       "    <tr>\n",
       "      <th>2989319</th>\n",
       "      <td>231</td>\n",
       "      <td>CASH_IN</td>\n",
       "      <td>14326.29</td>\n",
       "      <td>C1440553615</td>\n",
       "      <td>2922696.18</td>\n",
       "      <td>2937022.46</td>\n",
       "      <td>C1102815063</td>\n",
       "      <td>452845.26</td>\n",
       "      <td>438518.97</td>\n",
       "      <td>0</td>\n",
       "      <td>0</td>\n",
       "    </tr>\n",
       "    <tr>\n",
       "      <th>2832367</th>\n",
       "      <td>226</td>\n",
       "      <td>CASH_IN</td>\n",
       "      <td>500785.63</td>\n",
       "      <td>C340065287</td>\n",
       "      <td>263503.59</td>\n",
       "      <td>764289.22</td>\n",
       "      <td>C887794689</td>\n",
       "      <td>2934424.39</td>\n",
       "      <td>2433638.76</td>\n",
       "      <td>0</td>\n",
       "      <td>0</td>\n",
       "    </tr>\n",
       "    <tr>\n",
       "      <th>4277956</th>\n",
       "      <td>307</td>\n",
       "      <td>PAYMENT</td>\n",
       "      <td>19811.60</td>\n",
       "      <td>C1883909966</td>\n",
       "      <td>0.00</td>\n",
       "      <td>0.00</td>\n",
       "      <td>M933053216</td>\n",
       "      <td>0.00</td>\n",
       "      <td>0.00</td>\n",
       "      <td>0</td>\n",
       "      <td>0</td>\n",
       "    </tr>\n",
       "    <tr>\n",
       "      <th>743909</th>\n",
       "      <td>38</td>\n",
       "      <td>PAYMENT</td>\n",
       "      <td>508.63</td>\n",
       "      <td>C263254614</td>\n",
       "      <td>70634.00</td>\n",
       "      <td>70125.37</td>\n",
       "      <td>M1851666639</td>\n",
       "      <td>0.00</td>\n",
       "      <td>0.00</td>\n",
       "      <td>0</td>\n",
       "      <td>0</td>\n",
       "    </tr>\n",
       "    <tr>\n",
       "      <th>5073341</th>\n",
       "      <td>355</td>\n",
       "      <td>PAYMENT</td>\n",
       "      <td>1385.59</td>\n",
       "      <td>C1642428487</td>\n",
       "      <td>11451.00</td>\n",
       "      <td>10065.41</td>\n",
       "      <td>M1895995486</td>\n",
       "      <td>0.00</td>\n",
       "      <td>0.00</td>\n",
       "      <td>0</td>\n",
       "      <td>0</td>\n",
       "    </tr>\n",
       "    <tr>\n",
       "      <th>1552178</th>\n",
       "      <td>154</td>\n",
       "      <td>CASH_OUT</td>\n",
       "      <td>219376.79</td>\n",
       "      <td>C1176950032</td>\n",
       "      <td>239559.00</td>\n",
       "      <td>20182.21</td>\n",
       "      <td>C541994829</td>\n",
       "      <td>144526.58</td>\n",
       "      <td>363903.36</td>\n",
       "      <td>0</td>\n",
       "      <td>0</td>\n",
       "    </tr>\n",
       "    <tr>\n",
       "      <th>93761</th>\n",
       "      <td>10</td>\n",
       "      <td>PAYMENT</td>\n",
       "      <td>2083.58</td>\n",
       "      <td>C401278433</td>\n",
       "      <td>9742.89</td>\n",
       "      <td>7659.32</td>\n",
       "      <td>M564325674</td>\n",
       "      <td>0.00</td>\n",
       "      <td>0.00</td>\n",
       "      <td>0</td>\n",
       "      <td>0</td>\n",
       "    </tr>\n",
       "    <tr>\n",
       "      <th>1311291</th>\n",
       "      <td>136</td>\n",
       "      <td>CASH_OUT</td>\n",
       "      <td>267649.29</td>\n",
       "      <td>C1052897940</td>\n",
       "      <td>128903.00</td>\n",
       "      <td>0.00</td>\n",
       "      <td>C173195834</td>\n",
       "      <td>322.00</td>\n",
       "      <td>267971.29</td>\n",
       "      <td>0</td>\n",
       "      <td>0</td>\n",
       "    </tr>\n",
       "    <tr>\n",
       "      <th>2849836</th>\n",
       "      <td>227</td>\n",
       "      <td>PAYMENT</td>\n",
       "      <td>43669.84</td>\n",
       "      <td>C1169004079</td>\n",
       "      <td>18848.00</td>\n",
       "      <td>0.00</td>\n",
       "      <td>M471183640</td>\n",
       "      <td>0.00</td>\n",
       "      <td>0.00</td>\n",
       "      <td>0</td>\n",
       "      <td>0</td>\n",
       "    </tr>\n",
       "    <tr>\n",
       "      <th>5600103</th>\n",
       "      <td>394</td>\n",
       "      <td>PAYMENT</td>\n",
       "      <td>5804.42</td>\n",
       "      <td>C1076667537</td>\n",
       "      <td>0.00</td>\n",
       "      <td>0.00</td>\n",
       "      <td>M1531175520</td>\n",
       "      <td>0.00</td>\n",
       "      <td>0.00</td>\n",
       "      <td>0</td>\n",
       "      <td>0</td>\n",
       "    </tr>\n",
       "    <tr>\n",
       "      <th>3768179</th>\n",
       "      <td>280</td>\n",
       "      <td>PAYMENT</td>\n",
       "      <td>2771.09</td>\n",
       "      <td>C1539292044</td>\n",
       "      <td>527.00</td>\n",
       "      <td>0.00</td>\n",
       "      <td>M165211323</td>\n",
       "      <td>0.00</td>\n",
       "      <td>0.00</td>\n",
       "      <td>0</td>\n",
       "      <td>0</td>\n",
       "    </tr>\n",
       "    <tr>\n",
       "      <th>1271741</th>\n",
       "      <td>135</td>\n",
       "      <td>CASH_IN</td>\n",
       "      <td>170189.62</td>\n",
       "      <td>C1411592386</td>\n",
       "      <td>4023.00</td>\n",
       "      <td>174212.62</td>\n",
       "      <td>C247327488</td>\n",
       "      <td>0.00</td>\n",
       "      <td>0.00</td>\n",
       "      <td>0</td>\n",
       "      <td>0</td>\n",
       "    </tr>\n",
       "    <tr>\n",
       "      <th>3865015</th>\n",
       "      <td>283</td>\n",
       "      <td>PAYMENT</td>\n",
       "      <td>12850.66</td>\n",
       "      <td>C1833673918</td>\n",
       "      <td>493.00</td>\n",
       "      <td>0.00</td>\n",
       "      <td>M945268896</td>\n",
       "      <td>0.00</td>\n",
       "      <td>0.00</td>\n",
       "      <td>0</td>\n",
       "      <td>0</td>\n",
       "    </tr>\n",
       "    <tr>\n",
       "      <th>2783251</th>\n",
       "      <td>214</td>\n",
       "      <td>CASH_IN</td>\n",
       "      <td>74717.83</td>\n",
       "      <td>C35128239</td>\n",
       "      <td>539.00</td>\n",
       "      <td>75256.83</td>\n",
       "      <td>C1988129945</td>\n",
       "      <td>92740.55</td>\n",
       "      <td>18022.72</td>\n",
       "      <td>0</td>\n",
       "      <td>0</td>\n",
       "    </tr>\n",
       "    <tr>\n",
       "      <th>4360974</th>\n",
       "      <td>309</td>\n",
       "      <td>CASH_OUT</td>\n",
       "      <td>161675.11</td>\n",
       "      <td>C529286757</td>\n",
       "      <td>0.00</td>\n",
       "      <td>0.00</td>\n",
       "      <td>C1505232165</td>\n",
       "      <td>1473280.42</td>\n",
       "      <td>1634955.53</td>\n",
       "      <td>0</td>\n",
       "      <td>0</td>\n",
       "    </tr>\n",
       "    <tr>\n",
       "      <th>3654613</th>\n",
       "      <td>275</td>\n",
       "      <td>CASH_IN</td>\n",
       "      <td>7476.68</td>\n",
       "      <td>C328290369</td>\n",
       "      <td>20114495.48</td>\n",
       "      <td>20121972.16</td>\n",
       "      <td>C221899947</td>\n",
       "      <td>241232.48</td>\n",
       "      <td>233755.80</td>\n",
       "      <td>0</td>\n",
       "      <td>0</td>\n",
       "    </tr>\n",
       "    <tr>\n",
       "      <th>5719804</th>\n",
       "      <td>398</td>\n",
       "      <td>CASH_OUT</td>\n",
       "      <td>54528.99</td>\n",
       "      <td>C495184862</td>\n",
       "      <td>21283.00</td>\n",
       "      <td>0.00</td>\n",
       "      <td>C534988228</td>\n",
       "      <td>666972.02</td>\n",
       "      <td>721501.01</td>\n",
       "      <td>0</td>\n",
       "      <td>0</td>\n",
       "    </tr>\n",
       "    <tr>\n",
       "      <th>5449132</th>\n",
       "      <td>379</td>\n",
       "      <td>CASH_OUT</td>\n",
       "      <td>26860.05</td>\n",
       "      <td>C583141211</td>\n",
       "      <td>79244.00</td>\n",
       "      <td>52383.95</td>\n",
       "      <td>C1978323671</td>\n",
       "      <td>0.00</td>\n",
       "      <td>26860.05</td>\n",
       "      <td>0</td>\n",
       "      <td>0</td>\n",
       "    </tr>\n",
       "    <tr>\n",
       "      <th>1960710</th>\n",
       "      <td>178</td>\n",
       "      <td>PAYMENT</td>\n",
       "      <td>5644.98</td>\n",
       "      <td>C1699048017</td>\n",
       "      <td>71078.77</td>\n",
       "      <td>65433.79</td>\n",
       "      <td>M905635789</td>\n",
       "      <td>0.00</td>\n",
       "      <td>0.00</td>\n",
       "      <td>0</td>\n",
       "      <td>0</td>\n",
       "    </tr>\n",
       "  </tbody>\n",
       "</table>\n",
       "</div>"
      ],
      "text/plain": [
       "         step      type     amount     nameOrig  oldbalanceOrg  \\\n",
       "3282704   251   CASH_IN   63209.92   C272646117     5115090.12   \n",
       "2989319   231   CASH_IN   14326.29  C1440553615     2922696.18   \n",
       "2832367   226   CASH_IN  500785.63   C340065287      263503.59   \n",
       "4277956   307   PAYMENT   19811.60  C1883909966           0.00   \n",
       "743909     38   PAYMENT     508.63   C263254614       70634.00   \n",
       "5073341   355   PAYMENT    1385.59  C1642428487       11451.00   \n",
       "1552178   154  CASH_OUT  219376.79  C1176950032      239559.00   \n",
       "93761      10   PAYMENT    2083.58   C401278433        9742.89   \n",
       "1311291   136  CASH_OUT  267649.29  C1052897940      128903.00   \n",
       "2849836   227   PAYMENT   43669.84  C1169004079       18848.00   \n",
       "5600103   394   PAYMENT    5804.42  C1076667537           0.00   \n",
       "3768179   280   PAYMENT    2771.09  C1539292044         527.00   \n",
       "1271741   135   CASH_IN  170189.62  C1411592386        4023.00   \n",
       "3865015   283   PAYMENT   12850.66  C1833673918         493.00   \n",
       "2783251   214   CASH_IN   74717.83    C35128239         539.00   \n",
       "4360974   309  CASH_OUT  161675.11   C529286757           0.00   \n",
       "3654613   275   CASH_IN    7476.68   C328290369    20114495.48   \n",
       "5719804   398  CASH_OUT   54528.99   C495184862       21283.00   \n",
       "5449132   379  CASH_OUT   26860.05   C583141211       79244.00   \n",
       "1960710   178   PAYMENT    5644.98  C1699048017       71078.77   \n",
       "\n",
       "         newbalanceOrig     nameDest  oldbalanceDest  newbalanceDest  isFraud  \\\n",
       "3282704      5178300.04   C560187261       372993.87       309783.95        0   \n",
       "2989319      2937022.46  C1102815063       452845.26       438518.97        0   \n",
       "2832367       764289.22   C887794689      2934424.39      2433638.76        0   \n",
       "4277956            0.00   M933053216            0.00            0.00        0   \n",
       "743909         70125.37  M1851666639            0.00            0.00        0   \n",
       "5073341        10065.41  M1895995486            0.00            0.00        0   \n",
       "1552178        20182.21   C541994829       144526.58       363903.36        0   \n",
       "93761           7659.32   M564325674            0.00            0.00        0   \n",
       "1311291            0.00   C173195834          322.00       267971.29        0   \n",
       "2849836            0.00   M471183640            0.00            0.00        0   \n",
       "5600103            0.00  M1531175520            0.00            0.00        0   \n",
       "3768179            0.00   M165211323            0.00            0.00        0   \n",
       "1271741       174212.62   C247327488            0.00            0.00        0   \n",
       "3865015            0.00   M945268896            0.00            0.00        0   \n",
       "2783251        75256.83  C1988129945        92740.55        18022.72        0   \n",
       "4360974            0.00  C1505232165      1473280.42      1634955.53        0   \n",
       "3654613     20121972.16   C221899947       241232.48       233755.80        0   \n",
       "5719804            0.00   C534988228       666972.02       721501.01        0   \n",
       "5449132        52383.95  C1978323671            0.00        26860.05        0   \n",
       "1960710        65433.79   M905635789            0.00            0.00        0   \n",
       "\n",
       "         isFlaggedFraud  \n",
       "3282704               0  \n",
       "2989319               0  \n",
       "2832367               0  \n",
       "4277956               0  \n",
       "743909                0  \n",
       "5073341               0  \n",
       "1552178               0  \n",
       "93761                 0  \n",
       "1311291               0  \n",
       "2849836               0  \n",
       "5600103               0  \n",
       "3768179               0  \n",
       "1271741               0  \n",
       "3865015               0  \n",
       "2783251               0  \n",
       "4360974               0  \n",
       "3654613               0  \n",
       "5719804               0  \n",
       "5449132               0  \n",
       "1960710               0  "
      ]
     },
     "execution_count": 36,
     "metadata": {},
     "output_type": "execute_result"
    }
   ],
   "source": [
    "df = pd.read_csv('C:\\Ironhack\\Exercises\\week_7_labs\\lab-imbalance\\paysim1\\PS_20174392719_1491204439457_log.csv')\n",
    "\n",
    "# Sample the dataset\n",
    "df_sample = df.sample(n=100000, random_state=21)\n",
    "\n",
    "df_sample.sample(20)"
   ]
  },
  {
   "cell_type": "markdown",
   "metadata": {},
   "source": [
    "### What is the distribution of the outcome? "
   ]
  },
  {
   "cell_type": "code",
   "execution_count": 37,
   "metadata": {},
   "outputs": [
    {
     "data": {
      "text/plain": [
       "isFraud\n",
       "0    99.862\n",
       "1     0.138\n",
       "Name: proportion, dtype: float64"
      ]
     },
     "execution_count": 37,
     "metadata": {},
     "output_type": "execute_result"
    }
   ],
   "source": [
    "# Generate the proportion of fraudulent transactions\n",
    "fraud_proportion = df_sample['isFraud'].value_counts(normalize=True) * 100\n",
    "\n",
    "fraud_proportion\n"
   ]
  },
  {
   "cell_type": "markdown",
   "metadata": {},
   "source": [
    "### Clean the dataset. How are you going to integrate the time variable? Do you think the step (integer) coding in which it is given is appropriate?"
   ]
  },
  {
   "cell_type": "code",
   "execution_count": 38,
   "metadata": {},
   "outputs": [
    {
     "data": {
      "text/plain": [
       "473"
      ]
     },
     "execution_count": 38,
     "metadata": {},
     "output_type": "execute_result"
    }
   ],
   "source": [
    "df_sample['step'].nunique()"
   ]
  },
  {
   "cell_type": "code",
   "execution_count": 39,
   "metadata": {},
   "outputs": [
    {
     "data": {
      "text/plain": [
       "step              0\n",
       "type              0\n",
       "amount            0\n",
       "nameOrig          0\n",
       "oldbalanceOrg     0\n",
       "newbalanceOrig    0\n",
       "nameDest          0\n",
       "oldbalanceDest    0\n",
       "newbalanceDest    0\n",
       "isFraud           0\n",
       "isFlaggedFraud    0\n",
       "dtype: int64"
      ]
     },
     "execution_count": 39,
     "metadata": {},
     "output_type": "execute_result"
    }
   ],
   "source": [
    "missing_values = df_sample.isnull().sum()\n",
    "\n",
    "# Since the `step` variable is already in an integer format representing time, it's considered appropriate for most analyses\n",
    "# and will be kept as is for the logistic regression model and any subsequent models.\n",
    "\n",
    "missing_values"
   ]
  },
  {
   "cell_type": "markdown",
   "metadata": {},
   "source": [
    "### Run a logisitc regression classifier and evaluate its accuracy."
   ]
  },
  {
   "cell_type": "code",
   "execution_count": 40,
   "metadata": {},
   "outputs": [
    {
     "data": {
      "text/plain": [
       "0.99905"
      ]
     },
     "execution_count": 40,
     "metadata": {},
     "output_type": "execute_result"
    }
   ],
   "source": [
    "# Encoding the 'type' categorical variable\n",
    "le = LabelEncoder()\n",
    "df_sample['type_encoded'] = le.fit_transform(df_sample['type'])\n",
    "\n",
    "# Preparing features and target variable\n",
    "X = df_sample.drop(['isFraud', 'type', 'nameOrig', 'nameDest'], axis=1)\n",
    "y = df_sample['isFraud']\n",
    "\n",
    "# Splitting the dataset into training and testing sets\n",
    "X_train, X_test, y_train, y_test = train_test_split(X, y, test_size=0.2, random_state=42)\n",
    "\n",
    "# Logistic Regression Classifier\n",
    "log_reg = LogisticRegression(max_iter=1000, random_state=42)\n",
    "log_reg.fit(X_train, y_train)\n",
    "\n",
    "# Predictions and accuracy\n",
    "y_pred = log_reg.predict(X_test)\n",
    "accuracy = accuracy_score(y_test, y_pred)\n",
    "\n",
    "accuracy\n"
   ]
  },
  {
   "cell_type": "code",
   "execution_count": 45,
   "metadata": {},
   "outputs": [
    {
     "data": {
      "text/plain": [
       "0.998975"
      ]
     },
     "execution_count": 45,
     "metadata": {},
     "output_type": "execute_result"
    }
   ],
   "source": [
    "accuracy2 = log_reg.score(X_train, y_train)\n",
    "accuracy2"
   ]
  },
  {
   "cell_type": "markdown",
   "metadata": {},
   "source": [
    "### Now pick a model of your choice and evaluate its accuracy."
   ]
  },
  {
   "cell_type": "code",
   "execution_count": 41,
   "metadata": {},
   "outputs": [
    {
     "data": {
      "text/plain": [
       "0.99955"
      ]
     },
     "execution_count": 41,
     "metadata": {},
     "output_type": "execute_result"
    }
   ],
   "source": [
    "from sklearn.ensemble import RandomForestClassifier\n",
    "\n",
    "# Random Forest Classifier\n",
    "rf_clf = RandomForestClassifier(random_state=42)\n",
    "rf_clf.fit(X_train, y_train)\n",
    "\n",
    "# Predictions and accuracy\n",
    "y_pred_rf = rf_clf.predict(X_test)\n",
    "accuracy_rf = accuracy_score(y_test, y_pred_rf)\n",
    "\n",
    "accuracy_rf\n"
   ]
  },
  {
   "cell_type": "markdown",
   "metadata": {},
   "source": [
    "### Which model worked better and how do you know?"
   ]
  },
  {
   "cell_type": "code",
   "execution_count": 42,
   "metadata": {},
   "outputs": [
    {
     "data": {
      "text/plain": [
       "\"\\nBetween the Logistic Regression and Random Forest classifiers, the Random Forest model performed better with a higher accuracy of 99.98%, compared to 99.725% for the Logistic Regression model.\\n\\nThe higher accuracy indicates that the Random Forest classifier was more effective at identifying fraudulent transactions in the dataset. This improved performance could be due to the Random Forest's ability to model complex interactions between features and its robustness to imbalanced datasets.\\n\""
      ]
     },
     "execution_count": 42,
     "metadata": {},
     "output_type": "execute_result"
    }
   ],
   "source": [
    "'''\n",
    "Between the Logistic Regression and Random Forest classifiers, the Random Forest model performed better with a higher accuracy of 99.98%, compared to 99.725% for the Logistic Regression model.\n",
    "\n",
    "The higher accuracy indicates that the Random Forest classifier was more effective at identifying fraudulent transactions in the dataset. This improved performance could be due to the Random Forest's ability to model complex interactions between features and its robustness to imbalanced datasets.\n",
    "'''"
   ]
  },
  {
   "cell_type": "markdown",
   "metadata": {},
   "source": [
    "### Note: before doing the first commit, make sure you don't include the large csv file, either by adding it to .gitignore, or by deleting it."
   ]
  }
 ],
 "metadata": {
  "kernelspec": {
   "display_name": "Python 3",
   "language": "python",
   "name": "python3"
  },
  "language_info": {
   "codemirror_mode": {
    "name": "ipython",
    "version": 3
   },
   "file_extension": ".py",
   "mimetype": "text/x-python",
   "name": "python",
   "nbconvert_exporter": "python",
   "pygments_lexer": "ipython3",
   "version": "3.12.2"
  }
 },
 "nbformat": 4,
 "nbformat_minor": 2
}
